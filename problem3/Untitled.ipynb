{
 "cells": [
  {
   "cell_type": "code",
   "execution_count": 1,
   "metadata": {
    "ExecuteTime": {
     "end_time": "2017-06-21T18:21:33.336298",
     "start_time": "2017-06-21T18:21:32.086227"
    },
    "collapsed": false
   },
   "outputs": [
    {
     "name": "stdout",
     "output_type": "stream",
     "text": [
      "Populating the interactive namespace from numpy and matplotlib\n"
     ]
    }
   ],
   "source": [
    "import numpy as np\n",
    "import pandas as pd\n",
    "import matplotlib.pyplot as plt\n",
    "import seaborn as sns\n",
    "\n",
    "plt.rc('text', usetex=False)\n",
    "\n",
    "%pylab inline"
   ]
  },
  {
   "cell_type": "code",
   "execution_count": 2,
   "metadata": {
    "ExecuteTime": {
     "end_time": "2017-06-21T18:21:33.404302",
     "start_time": "2017-06-21T18:21:33.339298"
    },
    "collapsed": false
   },
   "outputs": [
    {
     "data": {
      "text/html": [
       "<div>\n",
       "<table border=\"1\" class=\"dataframe\">\n",
       "  <thead>\n",
       "    <tr style=\"text-align: right;\">\n",
       "      <th></th>\n",
       "      <th>target</th>\n",
       "      <th>x1</th>\n",
       "      <th>x2</th>\n",
       "    </tr>\n",
       "  </thead>\n",
       "  <tbody>\n",
       "    <tr>\n",
       "      <th>0</th>\n",
       "      <td>0</td>\n",
       "      <td>1</td>\n",
       "      <td>5</td>\n",
       "    </tr>\n",
       "    <tr>\n",
       "      <th>1</th>\n",
       "      <td>0</td>\n",
       "      <td>1</td>\n",
       "      <td>4</td>\n",
       "    </tr>\n",
       "    <tr>\n",
       "      <th>2</th>\n",
       "      <td>0</td>\n",
       "      <td>2</td>\n",
       "      <td>5</td>\n",
       "    </tr>\n",
       "    <tr>\n",
       "      <th>3</th>\n",
       "      <td>0</td>\n",
       "      <td>2</td>\n",
       "      <td>4</td>\n",
       "    </tr>\n",
       "    <tr>\n",
       "      <th>4</th>\n",
       "      <td>0</td>\n",
       "      <td>3</td>\n",
       "      <td>3</td>\n",
       "    </tr>\n",
       "    <tr>\n",
       "      <th>5</th>\n",
       "      <td>1</td>\n",
       "      <td>3</td>\n",
       "      <td>2</td>\n",
       "    </tr>\n",
       "    <tr>\n",
       "      <th>6</th>\n",
       "      <td>1</td>\n",
       "      <td>3</td>\n",
       "      <td>1</td>\n",
       "    </tr>\n",
       "    <tr>\n",
       "      <th>7</th>\n",
       "      <td>1</td>\n",
       "      <td>4</td>\n",
       "      <td>1</td>\n",
       "    </tr>\n",
       "    <tr>\n",
       "      <th>8</th>\n",
       "      <td>1</td>\n",
       "      <td>5</td>\n",
       "      <td>1</td>\n",
       "    </tr>\n",
       "    <tr>\n",
       "      <th>9</th>\n",
       "      <td>1</td>\n",
       "      <td>6</td>\n",
       "      <td>1</td>\n",
       "    </tr>\n",
       "    <tr>\n",
       "      <th>10</th>\n",
       "      <td>1</td>\n",
       "      <td>6</td>\n",
       "      <td>2</td>\n",
       "    </tr>\n",
       "  </tbody>\n",
       "</table>\n",
       "</div>"
      ],
      "text/plain": [
       "    target  x1  x2\n",
       "0        0   1   5\n",
       "1        0   1   4\n",
       "2        0   2   5\n",
       "3        0   2   4\n",
       "4        0   3   3\n",
       "5        1   3   2\n",
       "6        1   3   1\n",
       "7        1   4   1\n",
       "8        1   5   1\n",
       "9        1   6   1\n",
       "10       1   6   2"
      ]
     },
     "execution_count": 2,
     "metadata": {},
     "output_type": "execute_result"
    }
   ],
   "source": [
    "data=pd.read_csv('data.csv')\n",
    "data"
   ]
  },
  {
   "cell_type": "code",
   "execution_count": 3,
   "metadata": {
    "ExecuteTime": {
     "end_time": "2017-06-21T18:21:33.681318",
     "start_time": "2017-06-21T18:21:33.407302"
    },
    "collapsed": false,
    "scrolled": false
   },
   "outputs": [
    {
     "data": {
      "image/png": "[encoded data removed]",
      "text/plain": [
       "<matplotlib.figure.Figure at 0xa3ffc50>"
      ]
     },
     "metadata": {},
     "output_type": "display_data"
    }
   ],
   "source": [
    "fig1, axes1 = plt.subplots(figsize=(8, 8))\n",
    "\n",
    "# axes1.axis('equal')\n",
    "axes1.set_xlim([-1, 7])\n",
    "axes1.set_ylim([-1, 7])\n",
    "\n",
    "axes1.set_xlabel('x1')\n",
    "axes1.set_ylabel('x2')\n",
    "\n",
    "axes1.scatter(data[data.target == 0].x1.values, data[\n",
    "    data.target == 0].x2.values, s=150,)\n",
    "axes1.scatter(data[data.target == 1].x1.values, data[\n",
    "    data.target == 1].x2.values, s=150,)\n",
    "\n",
    "fig1.savefig('org_data.png')"
   ]
  },
  {
   "cell_type": "code",
   "execution_count": 4,
   "metadata": {
    "ExecuteTime": {
     "end_time": "2017-06-21T18:21:34.001336",
     "start_time": "2017-06-21T18:21:33.684318"
    },
    "collapsed": false
   },
   "outputs": [
    {
     "data": {
      "image/png": "[encoded data removed]",
      "text/plain": [
       "<matplotlib.figure.Figure at 0xa428470>"
      ]
     },
     "metadata": {},
     "output_type": "display_data"
    }
   ],
   "source": [
    "fig1, axes1 = plt.subplots(figsize=(8, 8))\n",
    "\n",
    "# axes1.axis('equal')\n",
    "axes1.set_xlim([-1, 7])\n",
    "axes1.set_ylim([-1, 7])\n",
    "\n",
    "axes1.set_xlabel('x1')\n",
    "axes1.set_ylabel('x2')\n",
    "\n",
    "sct1 = axes1.scatter(data[data.target == 0].x1.values, data[\n",
    "    data.target == 0].x2.values, s=150,)\n",
    "sct2 = axes1.scatter(data[data.target == 1].x1.values, data[\n",
    "    data.target == 1].x2.values, s=150,)\n",
    "\n",
    "xs = np.linspace(-2, 10)\n",
    "\n",
    "axes1.plot(xs, np.ones_like(xs) * 3)\n",
    "axes1.plot(xs, np.ones_like(xs) * 2)\n",
    "axes1.plot(xs, np.ones_like(xs) * 2.5)\n",
    "\n",
    "axes1.fill_between(xs, np.ones_like(xs) * 2.5, np.ones_like(xs)\n",
    "                   * 2, color=sct2.get_facecolor()[0], alpha=0.2)\n",
    "axes1.fill_between(xs, np.ones_like(xs) * 2.5, np.ones_like(xs)\n",
    "                   * 3, color=sct1.get_facecolor()[0], alpha=0.2)\n",
    "\n",
    "\n",
    "axes1.annotate(xy=[0, 3.1], s='wx+b = +1', size=13)\n",
    "axes1.annotate(xy=[0, 2.6], s='wx+b =  0', size=13)\n",
    "axes1.annotate(xy=[0, 1.8], s='wx+b = -1', size=13)\n",
    "\n",
    "axes1.annotate(xy=[2.9, 3.2], s='d1 = (3, 3)', size=13)\n",
    "axes1.annotate(xy=[2.9, 1.6], s='d2 = (2, 3)', size=13)\n",
    "axes1.annotate(xy=[5.9, 1.6], s='d3 = (6, 2)', size=13)\n",
    "\n",
    "\n",
    "fig1.savefig('margin_1.png')"
   ]
  },
  {
   "cell_type": "code",
   "execution_count": 5,
   "metadata": {
    "ExecuteTime": {
     "end_time": "2017-06-21T18:21:34.400359",
     "start_time": "2017-06-21T18:21:34.004337"
    },
    "collapsed": false
   },
   "outputs": [
    {
     "data": {
      "image/png": "[encoded data removed]",
      "text/plain": [
       "<matplotlib.figure.Figure at 0xb87de48>"
      ]
     },
     "metadata": {},
     "output_type": "display_data"
    }
   ],
   "source": [
    "import sklearn.svm as svm\n",
    "\n",
    "\n",
    "svm1 = svm.SVC(C=1e10, kernel='linear')\n",
    "svm1.fit(data[['x1', 'x2']].values, data['target'].values)\n",
    "\n",
    "w = svm1.coef_[0]\n",
    "a = -w[0] / w[1]\n",
    "xx = np.linspace(-10, 10)\n",
    "yy = a * xx - svm1.intercept_[0] / w[1]\n",
    "\n",
    "\n",
    "fig1, axes1 = plt.subplots(figsize=(8, 8))\n",
    "\n",
    "# axes1.axis('equal')\n",
    "axes1.set_xlim([-1, 7])\n",
    "axes1.set_ylim([-1, 7])\n",
    "\n",
    "axes1.set_xlabel('x1')\n",
    "axes1.set_ylabel('x2')\n",
    "\n",
    "axes1.scatter(data[data.target == 0].x1.values, data[\n",
    "    data.target == 0].x2.values, s=150,)\n",
    "axes1.scatter(data[data.target == 1].x1.values, data[\n",
    "    data.target == 1].x2.values, s=150)\n",
    "\n",
    "axes1.scatter(data.iloc[svm1.support_].x1.values, data.iloc[\n",
    "    svm1.support_].x2.values, color='yellow')\n",
    "\n",
    "axes1.plot(xx, yy)\n",
    "fig1.savefig('svm_c_big.png')"
   ]
  },
  {
   "cell_type": "code",
   "execution_count": 6,
   "metadata": {
    "ExecuteTime": {
     "end_time": "2017-06-21T18:21:34.680375",
     "start_time": "2017-06-21T18:21:34.404359"
    },
    "collapsed": false
   },
   "outputs": [
    {
     "data": {
      "image/png": "[encoded data removed]",
      "text/plain": [
       "<matplotlib.figure.Figure at 0xba6cf60>"
      ]
     },
     "metadata": {},
     "output_type": "display_data"
    }
   ],
   "source": [
    "svm1 = svm.SVC(C=1, kernel='linear')\n",
    "svm1.fit(data[['x1', 'x2']].values, data['target'].values)\n",
    "\n",
    "w = svm1.coef_[0]\n",
    "a = -w[0] / w[1]\n",
    "xx = np.linspace(-10, 10)\n",
    "yy = a * xx - svm1.intercept_[0] / w[1]\n",
    "\n",
    "\n",
    "fig1, axes1 = plt.subplots(figsize=(8, 8))\n",
    "\n",
    "# axes1.axis('equal')\n",
    "axes1.set_xlim([-1, 7])\n",
    "axes1.set_ylim([-1, 7])\n",
    "\n",
    "axes1.set_xlabel('x1')\n",
    "axes1.set_ylabel('x2')\n",
    "\n",
    "axes1.scatter(data[data.target == 0].x1.values, data[\n",
    "    data.target == 0].x2.values, s=150,)\n",
    "axes1.scatter(data[data.target == 1].x1.values, data[\n",
    "    data.target == 1].x2.values, s=150)\n",
    "\n",
    "axes1.scatter(data.iloc[svm1.support_].x1.values, data.iloc[\n",
    "    svm1.support_].x2.values, color='yellow')\n",
    "\n",
    "axes1.plot(xx, yy)\n",
    "fig1.savefig('svm_c_medium.png')"
   ]
  },
  {
   "cell_type": "code",
   "execution_count": 7,
   "metadata": {
    "ExecuteTime": {
     "end_time": "2017-06-21T18:21:34.963391",
     "start_time": "2017-06-21T18:21:34.683375"
    },
    "collapsed": false
   },
   "outputs": [
    {
     "data": {
      "image/png": "[encoded data removed]",
      "text/plain": [
       "<matplotlib.figure.Figure at 0xbbcc080>"
      ]
     },
     "metadata": {},
     "output_type": "display_data"
    }
   ],
   "source": [
    "svm1 = svm.SVC(C=.1, kernel='linear')\n",
    "svm1.fit(data[['x1', 'x2']].values, data['target'].values)\n",
    "\n",
    "w = svm1.coef_[0]\n",
    "a = -w[0] / w[1]\n",
    "xx = np.linspace(-10, 10)\n",
    "yy = a * xx - svm1.intercept_[0] / w[1]\n",
    "\n",
    "\n",
    "fig1, axes1 = plt.subplots(figsize=(8, 8))\n",
    "\n",
    "# axes1.axis('equal')\n",
    "axes1.set_xlim([-1, 7])\n",
    "axes1.set_ylim([-1, 7])\n",
    "\n",
    "axes1.set_xlabel('x1')\n",
    "axes1.set_ylabel('x2')\n",
    "\n",
    "axes1.scatter(data[data.target == 0].x1.values, data[\n",
    "    data.target == 0].x2.values, s=150,)\n",
    "axes1.scatter(data[data.target == 1].x1.values, data[\n",
    "    data.target == 1].x2.values, s=150)\n",
    "\n",
    "axes1.scatter(data.iloc[svm1.support_].x1.values, data.iloc[\n",
    "    svm1.support_].x2.values, color='yellow')\n",
    "\n",
    "axes1.plot(xx, yy)\n",
    "fig1.savefig('svm_c_little.png')"
   ]
  }
 ],
 "metadata": {
  "kernelspec": {
   "display_name": "Python 3",
   "language": "python",
   "name": "python3"
  },
  "language_info": {
   "codemirror_mode": {
    "name": "ipython",
    "version": 3
   },
   "file_extension": ".py",
   "mimetype": "text/x-python",
   "name": "python",
   "nbconvert_exporter": "python",
   "pygments_lexer": "ipython3",
   "version": "3.6.0"
  },
  "toc": {
   "colors": {
    "hover_highlight": "#DAA520",
    "running_highlight": "#FF0000",
    "selected_highlight": "#FFD700"
   },
   "moveMenuLeft": true,
   "nav_menu": {
    "height": "12px",
    "width": "252px"
   },
   "navigate_menu": true,
   "number_sections": true,
   "sideBar": true,
   "threshold": 4,
   "toc_cell": false,
   "toc_section_display": "block",
   "toc_window_display": false
  }
 },
 "nbformat": 4,
 "nbformat_minor": 2
}
